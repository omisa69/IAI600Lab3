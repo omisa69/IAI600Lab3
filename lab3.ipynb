{
 "cells": [
  {
   "cell_type": "code",
   "execution_count": 105,
   "metadata": {},
   "outputs": [],
   "source": [
    "import numpy as np\n",
    "import pandas as pd\n",
    "from sklearn.impute import SimpleImputer\n",
    "from sklearn.preprocessing import OneHotEncoder\n",
    "from sklearn.preprocessing import StandardScaler\n",
    "from sklearn.base import BaseEstimator, TransformerMixin\n",
    "from sklearn.cluster import KMeans\n",
    "from sklearn.metrics.pairwise import rbf_kernel\n",
    "from sklearn.preprocessing import QuantileTransformer\n",
    "from sklearn.pipeline import make_pipeline, Pipeline\n",
    "from sklearn.compose import make_column_selector, ColumnTransformer\n",
    "from sklearn.model_selection import cross_val_score, GridSearchCV\n",
    "from sklearn.metrics import root_mean_squared_error\n",
    "from sklearn.linear_model import LinearRegression\n",
    "from sklearn.tree import DecisionTreeRegressor\n",
    "from sklearn.ensemble import RandomForestRegressor\n",
    "from sklearn.svm import SVR\n"
   ]
  },
  {
   "cell_type": "code",
   "execution_count": 88,
   "metadata": {},
   "outputs": [],
   "source": [
    "housing = pd.read_csv(\"housing.csv\")"
   ]
  },
  {
   "cell_type": "markdown",
   "metadata": {},
   "source": [
    "# Preparing Data"
   ]
  },
  {
   "cell_type": "markdown",
   "metadata": {},
   "source": [
    "### Creating Transformers"
   ]
  },
  {
   "cell_type": "code",
   "execution_count": 89,
   "metadata": {},
   "outputs": [],
   "source": [
    "# Handling Missing Values\n",
    "num_imputer = SimpleImputer(strategy=\"median\")\n",
    "cat_imputer = SimpleImputer(strategy=\"most_frequent\")\n",
    "\n",
    "# Handling Categorical Data\n",
    "cat_encoder = OneHotEncoder(handle_unknown=\"ignore\", sparse_output=False)\n",
    "\n",
    "# Handling Heavy-Tailed features\n",
    "class LogTransformer(BaseEstimator, TransformerMixin):\n",
    "    def __init__(self, base=np.e):\n",
    "        self.base = base\n",
    "        \n",
    "\n",
    "    def fit(self, X, y=None):\n",
    "        if isinstance(X, pd.DataFrame):\n",
    "            self.feature_names_in_ = X.columns.to_list()\n",
    "        else:\n",
    "            self.feature_names_in_ = [f\"feature_{i}\" for i in range(X.shape[1])]\n",
    "        return self\n",
    "\n",
    "    def transform(self, X):\n",
    "        return np.emath.logn(self.base, X)\n",
    "    \n",
    "    def get_feature_names_out(self, input_features=None):\n",
    "        if input_features == None:\n",
    "            input_features = self.feature_names_in_\n",
    "        return [f\"log_{name}\" for name in input_features]\n",
    "\n",
    "    def inverse_transform(self, X):\n",
    "        return self.base ** X\n",
    "    \n",
    "log_transformer = LogTransformer()\n",
    "\n",
    "# Handling Geographic features\n",
    "\n",
    "\n",
    "class ClusterSimilarity(BaseEstimator, TransformerMixin):\n",
    "    def __init__(self, n_clusters=10, gamma=1.0, random_state=None):\n",
    "        self.n_clusters = n_clusters\n",
    "        self.gamma = gamma\n",
    "        self.random_state = random_state\n",
    "        \n",
    "    \n",
    "    def fit(self, X, y=None, sample_weight=None):\n",
    "        self.kmeans_ = KMeans(self.n_clusters,random_state=self.random_state)\n",
    "        self.kmeans_.fit(X, sample_weight=sample_weight)\n",
    "        return self\n",
    "    \n",
    "    def transform(self, X):\n",
    "        return rbf_kernel(X, self.kmeans_.cluster_centers_, gamma=self.gamma)\n",
    "\n",
    "    def get_feature_names_out(self, names=None):\n",
    "        return [f\"Cluster {i} similarity\" for i in range(self.n_clusters)]\n",
    "    \n",
    "cluster_simil_transformer = ClusterSimilarity(random_state=42)\n",
    "\n",
    "# Transforming housing_median_age\n",
    "quantile_transformer = QuantileTransformer(output_distribution='normal', random_state=0)\n",
    "\n",
    "# Creating Additional Features (bedrooms (bedrooms per room), rooms_per_house, people_per_house)\n",
    "class RatioFeaturesTransformer(BaseEstimator, TransformerMixin):\n",
    "    def __init__(self):\n",
    "        pass\n",
    "\n",
    "    def fit(self, X, y=None):\n",
    "        if isinstance(X, pd.DataFrame):\n",
    "            self.feature_names_in_ = X.columns.to_list()\n",
    "        else:\n",
    "            self.feature_names_in_ = [f\"feature_{i}\" for i in range(X.shape[1])]\n",
    "        return self\n",
    "    \n",
    "    def transform(self, X):\n",
    "        if X.shape[1] < 2:             \n",
    "            raise ValueError(\"Ratio transformation requires at least two columns.\")\n",
    "        transformed_X = X[:, 0] / X[:, 1]\n",
    "        return transformed_X.reshape(-1,1)\n",
    "\n",
    "    def get_feature_names_out(self, input_features=None):\n",
    "        if input_features == None:\n",
    "            input_features = self.feature_names_in_\n",
    "        else:\n",
    "            return [f\"additional_{name}_ratio\" for name in input_features]\n",
    "\n",
    "\n",
    "ratio_features_transformer = RatioFeaturesTransformer()\n",
    "\n",
    "# Scaling\n",
    "standard_scaler = StandardScaler()"
   ]
  },
  {
   "cell_type": "markdown",
   "metadata": {},
   "source": [
    "### Creating Pipeline"
   ]
  },
  {
   "cell_type": "code",
   "execution_count": 90,
   "metadata": {},
   "outputs": [],
   "source": [
    "deafult_number_pipeline = make_pipeline(num_imputer, standard_scaler)\n",
    "\n",
    "# Heavy-Tailed Features\n",
    "log_pipeline = make_pipeline(num_imputer, log_transformer, standard_scaler)\n",
    "\n",
    "# Categorical Features\n",
    "cat_pipeline = make_pipeline(cat_imputer, cat_encoder)\n",
    "\n",
    "# Geographic Features\n",
    "geo_pipeline = make_pipeline(cluster_simil_transformer)\n",
    "\n",
    "# median_house_values\n",
    "quantile_pipeline = make_pipeline(num_imputer, quantile_transformer, standard_scaler)\n",
    "\n",
    "# Additional Features\n",
    "ratio_features_pipeline = make_pipeline(num_imputer, ratio_features_transformer,standard_scaler) \n",
    "\n",
    "# Piping!\n",
    "preprocessing = ColumnTransformer([\n",
    "    (\"bedrooms\",            ratio_features_pipeline,    [\"total_bedrooms\", \"total_rooms\"]),\n",
    "    (\"rooms_per_house\",     ratio_features_pipeline,    [\"total_rooms\", \"households\"]),\n",
    "    (\"people_per_house\" ,   ratio_features_pipeline,    [\"population\", \"households\"]),\n",
    "    (\"log\",                 log_pipeline,               [\"total_rooms\", \"total_bedrooms\", \"population\", \"households\", \"median_income\"]),\n",
    "    (\"geo\",                 geo_pipeline,               [\"latitude\", \"longitude\"]),\n",
    "    (\"cat\",                 cat_pipeline,               make_column_selector(dtype_include=object)),\n",
    "    (\"age\",                 quantile_pipeline,          [\"housing_median_age\"])\n",
    "    ], remainder=deafult_number_pipeline)"
   ]
  },
  {
   "cell_type": "markdown",
   "metadata": {},
   "source": [
    "### Splitting Data"
   ]
  },
  {
   "cell_type": "code",
   "execution_count": 102,
   "metadata": {},
   "outputs": [],
   "source": [
    "X = housing.drop([\"median_house_value\"], axis=1)\n",
    "y = housing[\"median_house_value\"]"
   ]
  },
  {
   "cell_type": "markdown",
   "metadata": {},
   "source": [
    "# Training Models"
   ]
  },
  {
   "cell_type": "code",
   "execution_count": 103,
   "metadata": {},
   "outputs": [
    {
     "name": "stdout",
     "output_type": "stream",
     "text": [
      "LinearRegression:\tRMSE: 69,020\tCV_RMSE: 75,552\n",
      "DecisionTreeRegressor:\tRMSE: 0\tCV_RMSE: 88,310\n",
      "RandomForestRegressor:\tRMSE: 17,372\tCV_RMSE: 62,387\n",
      "SVR:\tRMSE: 117,976\tCV_RMSE: 119,095\n"
     ]
    }
   ],
   "source": [
    "class Model():\n",
    "    def __init__(self, preprocessor, predictor):\n",
    "        self.predictor = make_pipeline(preprocessor, predictor)\n",
    "        self.predictor_name = predictor.__class__.__name__\n",
    "\n",
    "    def fit_predict(self, dataset, labels):\n",
    "        self.predictor.fit(dataset, labels)\n",
    "        self.predictions = self.predictor.predict(dataset)\n",
    "        self.cv_rmses = -cross_val_score(self.predictor, dataset, labels, scoring=\"neg_root_mean_squared_error\", cv=5)\n",
    "        self.cv_rmse = self.cv_rmses.mean()\n",
    "        self.rmse = root_mean_squared_error(labels, self.predictions)\n",
    "        return f\"{self.predictor_name}\\tRMSE: {self.rmse:,.0f}\\tCV_RMSE: {self.cv_rmse:,.0f}\"\n",
    "\n",
    "\n",
    "results = []\n",
    "lin_reg = Model(preprocessing, LinearRegression())\n",
    "results.append(lin_reg.fit_predict(dataset=X, labels=y))\n",
    "tree_reg = Model(preprocessing, DecisionTreeRegressor(random_state=42))\n",
    "results.append(tree_reg.fit_predict(dataset=X, labels=y))\n",
    "forest_reg = Model(preprocessing, RandomForestRegressor(random_state=42))\n",
    "results.append(forest_reg.fit_predict(dataset=X, labels=y))\n",
    "sv_reg = Model(preprocessing, SVR(C=1.0, epsilon=0.1, kernel=\"rbf\", degree=3, gamma=\"scale\"))\n",
    "results.append(sv_reg.fit_predict(dataset=X, labels=y))\n",
    "\n",
    "for result in results:\n",
    "    print(result)"
   ]
  },
  {
   "cell_type": "markdown",
   "metadata": {},
   "source": [
    "# Fine-Tuning Models"
   ]
  },
  {
   "cell_type": "markdown",
   "metadata": {},
   "source": [
    "### Grid Search"
   ]
  },
  {
   "cell_type": "code",
   "execution_count": 97,
   "metadata": {},
   "outputs": [
    {
     "data": {
      "text/plain": [
       "'SVR: \\tRMSE: 117,976\\tCV_RMSE: 119,095'"
      ]
     },
     "execution_count": 97,
     "metadata": {},
     "output_type": "execute_result"
    }
   ],
   "source": []
  }
 ],
 "metadata": {
  "kernelspec": {
   "display_name": "Python 3",
   "language": "python",
   "name": "python3"
  },
  "language_info": {
   "codemirror_mode": {
    "name": "ipython",
    "version": 3
   },
   "file_extension": ".py",
   "mimetype": "text/x-python",
   "name": "python",
   "nbconvert_exporter": "python",
   "pygments_lexer": "ipython3",
   "version": "3.10.9"
  }
 },
 "nbformat": 4,
 "nbformat_minor": 2
}
